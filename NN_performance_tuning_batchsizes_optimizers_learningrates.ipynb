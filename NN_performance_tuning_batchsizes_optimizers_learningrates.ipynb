{
 "cells": [
  {
   "cell_type": "code",
   "execution_count": 8,
   "id": "83d5e8df",
   "metadata": {},
   "outputs": [],
   "source": [
    "# Data Handling\n",
    "import os\n",
    "import datetime\n",
    "import random\n",
    "import pandas as pd\n",
    "import numpy as np\n",
    "from sklearn.utils import shuffle\n",
    "\n",
    "# Visualizations\n",
    "import seaborn as sns\n",
    "import matplotlib.pyplot as plt\n",
    "\n",
    "# For Neural Network Model\n",
    "from sklearn.model_selection import train_test_split\n",
    "import tensorflow as tf \n",
    "from tensorflow.keras.models import Sequential\n",
    "from tensorflow.keras.layers import Dense, ReLU\n",
    "from tensorflow.keras.optimizers import Adam, SGD, Ftrl, RMSprop, Adagrad\n",
    "from tensorflow.keras.callbacks import TensorBoard"
   ]
  },
  {
   "cell_type": "markdown",
   "id": "17db835c",
   "metadata": {},
   "source": [
    "**RUNNING MODEL ON RAW DATA VS NORMALIZED DATA**"
   ]
  },
  {
   "cell_type": "code",
   "execution_count": 9,
   "id": "546f1508",
   "metadata": {},
   "outputs": [],
   "source": [
    "%matplotlib inline\n",
    "%load_ext tensorboard"
   ]
  },
  {
   "cell_type": "code",
   "execution_count": 10,
   "id": "e95e26a2",
   "metadata": {},
   "outputs": [
    {
     "name": "stderr",
     "output_type": "stream",
     "text": [
      "2021-10-28 15:17:22.084706: I tensorflow/core/profiler/lib/profiler_session.cc:136] Profiler session initializing.\n",
      "2021-10-28 15:17:22.084763: I tensorflow/core/profiler/lib/profiler_session.cc:155] Profiler session started.\n",
      "2021-10-28 15:17:22.087105: I tensorflow/core/profiler/lib/profiler_session.cc:172] Profiler session tear down.\n"
     ]
    }
   ],
   "source": [
    "now = datetime.datetime.now().strftime(\"%Y%m%d-%H%M%S\")\n",
    "logdir = os.path.join(\"logs\", f\"No_Normalization-{now}\")\n",
    "tensorboard = TensorBoard(log_dir=logdir,  histogram_freq=1)"
   ]
  },
  {
   "cell_type": "code",
   "execution_count": 11,
   "id": "9c1227c2",
   "metadata": {},
   "outputs": [],
   "source": [
    "def load_quickdraw10(file = './quickdraw10.npz'):\n",
    "    '''\n",
    "    Retrieves the quickdraw dataset and separates into training and testing classes\n",
    "    \n",
    "    Parameters:\n",
    "    ------------\n",
    "    file: str: location of quickdraw file on local machine\n",
    "    \n",
    "    Returns:\n",
    "    --------\n",
    "    X_train: numpy array list[list[int]]]: pixel values for all images that the model will be trained on\n",
    "    X_test: numpy array list[list[int]]: pixel values for all images that the model will test predictions on\n",
    "    y_train: numpy array list[int]: list of answer values for what number the picture represents; used in training\n",
    "    y_test: numpy array list[int]: list of answer values for what the picture represents; used to determine model acc\n",
    "    '''\n",
    "    data = np.load(file)\n",
    "\n",
    "    X = data['arr_0']\n",
    "    Y = data['arr_1']\n",
    "        \n",
    "    X_train, X_test, y_train, y_test = train_test_split(X, Y, shuffle=True)\n",
    "\n",
    "    return X_train, X_test, y_train, y_test\n",
    "\n",
    "\n",
    "def create_model(lr=.01, opt='adam'):\n",
    "    '''\n",
    "    Build and returns a complies Keras model.  \n",
    "    \n",
    "    Parameters\n",
    "    ----------\n",
    "    lr: float: Learing rate parameter used for Stocastic Gradient Descent \n",
    "        \n",
    "    opt: string: Name of optimizer to use\n",
    "        \n",
    "    Returns\n",
    "    -------\n",
    "    model: keras object: A compiled keras model \n",
    "    '''\n",
    "    optimizer_choices = {'adam':Adam(learning_rate = lr), 'sgd': SGD(learning_rate = lr),\n",
    "                         'ftrl': Ftrl(learning_rate = lr), 'rmsprop': RMSprop(learning_rate = lr),\n",
    "                         'adagrad': Adagrad(learning_rate = lr)}\n",
    "                                            \n",
    "    learning_rate_choices = [.01, .005, .015, .001]\n",
    "                                     \n",
    "    if lr not in learning_rate_choices:\n",
    "        print(f'{lr} is not a valid option. Defaulting to .01 learning rate')\n",
    "        lr = .01                           \n",
    "    \n",
    "    if opt in optimizer_choices:\n",
    "        opt = optimizer_choices[opt]\n",
    "    else: \n",
    "        print (\"{} is not a valid option. Defaulting to Adam optimizer\".format(opt))\n",
    "        opt = Adam(learning_rate=lr)\n",
    "    \n",
    "    # build model here\n",
    "    model = Sequential([Dense(750, input_dim=784, activation='sigmoid'),\n",
    "                        Dense(250, activation='sigmoid'),\n",
    "                        Dense(10, activation='softmax')])\n",
    "    \n",
    "    model.compile(optimizer=opt, loss='sparse_categorical_crossentropy', metrics=['accuracy'])\n",
    "    \n",
    "    return model\n",
    "\n",
    "def fit_model(model, X_train, X_test, y_train, y_test, workers = -2, epochs = 10,\n",
    "              batch_size = 32, verbose = 1, callbacks = [tensorboard]):\n",
    "    '''\n",
    "    Fits our neural network model onto the dataset\n",
    "    \n",
    "    Parameters:\n",
    "    -----------\n",
    "    model: keras object: a compiled keras model\n",
    "    X_train: numpy array list[list[int]]]: pixel values for all images that the model will be trained on\n",
    "    X_test: numpy array list[list[int]]: pixel values for all images that the model will test predictions on\n",
    "    y_train: numpy array list[int]: list of answer values for what number the picture represents; used in training\n",
    "    y_test: numpy array list[int]: list of answer values for what the picture represents; used to determine model acc\n",
    "    workers: int: number of machines to use while running the model\n",
    "    epochs: int: number of iterations the model should undergo while training\n",
    "    batch_size: int: number of inputs to handle at at time\n",
    "    verbose: bool: whether or not we get detailed information\n",
    "    \n",
    "    Returns:\n",
    "    fitted neural network model\n",
    "    '''\n",
    "    \n",
    "    return model.fit(X_train, y_train,\n",
    "                     validation_data = (X_test, y_test),\n",
    "                     workers = workers,\n",
    "                     epochs = epochs,\n",
    "                     batch_size = batch_size,\n",
    "                     verbose = verbose)\n",
    "\n",
    "def normalize_data(X_train, X_test):\n",
    "    '''\n",
    "    normalizes the data in our set\n",
    "    \n",
    "    Parameters:\n",
    "    -----------\n",
    "    X_train: numpy array list[list[int]]]: pixel values for all images that the model will be trained on\n",
    "    X_test: numpy array list[list[int]]: pixel values for all images that the model will test predictions on\n",
    "    \n",
    "    Returns:\n",
    "    ----------\n",
    "    X_train_scaled: numpy array list[list[int]]: normalized pixel values for images the model will be trained on\n",
    "    X_test_scaled: numpy array list[list[int]]: normalized pixel values for images the model will test predictions on\n",
    "    '''\n",
    "    # Normalize your training and test sets \n",
    "    # save normalized data to X_train_scaled and X_test_scaled\n",
    "    max_value = 255\n",
    "    X_train_scaled, X_test_scaled = (X_train / max_value), (X_test / max_value)\n",
    "\n",
    "    return X_train_scaled, X_test_scaled\n"
   ]
  },
  {
   "cell_type": "code",
   "execution_count": 5,
   "id": "784d0ddf",
   "metadata": {},
   "outputs": [
    {
     "name": "stderr",
     "output_type": "stream",
     "text": [
      "2021-10-19 15:21:57.387767: I tensorflow/core/platform/cpu_feature_guard.cc:142] This TensorFlow binary is optimized with oneAPI Deep Neural Network Library (oneDNN) to use the following CPU instructions in performance-critical operations:  SSE4.1 SSE4.2\n",
      "To enable them in other operations, rebuild TensorFlow with the appropriate compiler flags.\n",
      "2021-10-19 15:21:57.427703: I tensorflow/compiler/mlir/mlir_graph_optimization_pass.cc:116] None of the MLIR optimization passes are enabled (registered 2)\n"
     ]
    },
    {
     "name": "stdout",
     "output_type": "stream",
     "text": [
      "Epoch 1/5\n",
      "2344/2344 [==============================] - 12s 5ms/step - loss: 1.0033 - accuracy: 0.6823 - val_loss: 0.7573 - val_accuracy: 0.7671\n",
      "Epoch 2/5\n",
      "2344/2344 [==============================] - 11s 5ms/step - loss: 0.7540 - accuracy: 0.7660 - val_loss: 0.7049 - val_accuracy: 0.7816\n",
      "Epoch 3/5\n",
      "2344/2344 [==============================] - 11s 5ms/step - loss: 0.7026 - accuracy: 0.7769 - val_loss: 0.6829 - val_accuracy: 0.7855\n",
      "Epoch 4/5\n",
      "2344/2344 [==============================] - 11s 5ms/step - loss: 0.6793 - accuracy: 0.7853 - val_loss: 0.6477 - val_accuracy: 0.7969\n",
      "Epoch 5/5\n",
      "2344/2344 [==============================] - 11s 5ms/step - loss: 0.6434 - accuracy: 0.7939 - val_loss: 0.6509 - val_accuracy: 0.7977\n"
     ]
    },
    {
     "data": {
      "text/plain": [
       "<tensorflow.python.keras.callbacks.History at 0x7fdf301232e0>"
      ]
     },
     "execution_count": 5,
     "metadata": {},
     "output_type": "execute_result"
    }
   ],
   "source": [
    "# Load the dataset\n",
    "X_train, X_test, y_train, y_test = load_quickdraw10()\n",
    "\n",
    "# Compile the model \n",
    "model_raw = create_model(lr = .001, opt = 'adam')\n",
    "\n",
    "# Fit model onto data\n",
    "fit_model(model_raw, X_train, X_test, y_train, y_test, epochs = 5)"
   ]
  },
  {
   "cell_type": "code",
   "execution_count": 6,
   "id": "47506210",
   "metadata": {},
   "outputs": [
    {
     "name": "stdout",
     "output_type": "stream",
     "text": [
      "Epoch 1/5\n",
      "2344/2344 [==============================] - 11s 5ms/step - loss: 0.9352 - accuracy: 0.7057 - val_loss: 0.5623 - val_accuracy: 0.8315\n",
      "Epoch 2/5\n",
      "2344/2344 [==============================] - 11s 5ms/step - loss: 0.4997 - accuracy: 0.8468 - val_loss: 0.4752 - val_accuracy: 0.8534\n",
      "Epoch 3/5\n",
      "2344/2344 [==============================] - 11s 5ms/step - loss: 0.4011 - accuracy: 0.8777 - val_loss: 0.4090 - val_accuracy: 0.8774\n",
      "Epoch 4/5\n",
      "2344/2344 [==============================] - 11s 5ms/step - loss: 0.3415 - accuracy: 0.8970 - val_loss: 0.4029 - val_accuracy: 0.8789\n",
      "Epoch 5/5\n",
      "2344/2344 [==============================] - 11s 5ms/step - loss: 0.2836 - accuracy: 0.9148 - val_loss: 0.3923 - val_accuracy: 0.8854\n"
     ]
    },
    {
     "data": {
      "text/plain": [
       "<tensorflow.python.keras.callbacks.History at 0x7fdf669f2ee0>"
      ]
     },
     "execution_count": 6,
     "metadata": {},
     "output_type": "execute_result"
    }
   ],
   "source": [
    "# Normalize the data and create and fit model onto normalized data\n",
    "X_train_scaled, X_test_scaled = normalize_data(X_train, X_test)\n",
    "\n",
    "# Compile the model \n",
    "model_normalized = create_model(lr = .001, opt = 'adam')\n",
    "\n",
    "# Fit model onto data\n",
    "fit_model(model_normalized, X_train_scaled, X_test_scaled, y_train, y_test, epochs = 5)"
   ]
  },
  {
   "cell_type": "code",
   "execution_count": 7,
   "id": "745d0534",
   "metadata": {},
   "outputs": [
    {
     "name": "stdout",
     "output_type": "stream",
     "text": [
      "Model: \"sequential\"\n",
      "_________________________________________________________________\n",
      "Layer (type)                 Output Shape              Param #   \n",
      "=================================================================\n",
      "dense (Dense)                (None, 750)               588750    \n",
      "_________________________________________________________________\n",
      "dense_1 (Dense)              (None, 250)               187750    \n",
      "_________________________________________________________________\n",
      "dense_2 (Dense)              (None, 10)                2510      \n",
      "=================================================================\n",
      "Total params: 779,010\n",
      "Trainable params: 779,010\n",
      "Non-trainable params: 0\n",
      "_________________________________________________________________\n"
     ]
    }
   ],
   "source": [
    "model_raw.summary()"
   ]
  },
  {
   "cell_type": "code",
   "execution_count": 8,
   "id": "434fc375",
   "metadata": {},
   "outputs": [
    {
     "name": "stdout",
     "output_type": "stream",
     "text": [
      "Model: \"sequential_1\"\n",
      "_________________________________________________________________\n",
      "Layer (type)                 Output Shape              Param #   \n",
      "=================================================================\n",
      "dense_3 (Dense)              (None, 750)               588750    \n",
      "_________________________________________________________________\n",
      "dense_4 (Dense)              (None, 250)               187750    \n",
      "_________________________________________________________________\n",
      "dense_5 (Dense)              (None, 10)                2510      \n",
      "=================================================================\n",
      "Total params: 779,010\n",
      "Trainable params: 779,010\n",
      "Non-trainable params: 0\n",
      "_________________________________________________________________\n"
     ]
    }
   ],
   "source": [
    "model_normalized.summary()"
   ]
  },
  {
   "cell_type": "code",
   "execution_count": 9,
   "id": "b635bf3a",
   "metadata": {},
   "outputs": [
    {
     "data": {
      "image/png": "[encoded data removed]",
      "text/plain": [
       "<Figure size 1440x432 with 1 Axes>"
      ]
     },
     "metadata": {
      "needs_background": "light"
     },
     "output_type": "display_data"
    }
   ],
   "source": [
    "'''Comparing the Weights in the Final layer of Raw and Normal with Initialized Values'''\n",
    "\n",
    "# Default for keras to randomly select weight values is GlorotUniform\n",
    "initializer = tf.keras.initializers.GlorotUniform(seed=1234)\n",
    "initial_weight_values = initializer(shape=(1, 250))\n",
    "\n",
    "# Final weight & value matrices from normalized model\n",
    "layer = model_normalized.get_layer(name=\"dense_4\")\n",
    "bias_norm, weights_norm = layer.get_weights()\n",
    "\n",
    "# Final weight & value matrices from non-normalized model\n",
    "layer = model_raw.get_layer(name=\"dense_1\")\n",
    "bias, weights = layer.get_weights()\n",
    "\n",
    "# Visualization of the Weights for each\n",
    "plt.figure(figsize=(20,6))\n",
    "plt.title(\"Learned Weights in Hidden Layers\")\n",
    "plt.xlabel(\"Weight Values\")\n",
    "plt.grid()\n",
    "\n",
    "plt.hist(weights, bins=20, alpha=0.5, label=\"weights from model\", density=True);\n",
    "plt.hist(weights_norm, bins=20, alpha=0.5, label=\"weights from norm_model\", density=True);\n",
    "plt.hist(initial_weight_values, bins=20, alpha=0.5, label=\"initial weight values\", density=True);\n",
    "plt.legend(fontsize=\"x-large\");"
   ]
  },
  {
   "cell_type": "markdown",
   "id": "429144a0",
   "metadata": {},
   "source": [
    "**BATCH SIZE COMPARISONS**"
   ]
  },
  {
   "cell_type": "code",
   "execution_count": 10,
   "id": "a8d77477",
   "metadata": {},
   "outputs": [
    {
     "name": "stdout",
     "output_type": "stream",
     "text": [
      "Epoch 1/5\n",
      "2344/2344 [==============================] - 12s 5ms/step - loss: 0.9285 - accuracy: 0.7116 - val_loss: 0.5522 - val_accuracy: 0.8314\n",
      "Epoch 2/5\n",
      "2344/2344 [==============================] - 11s 5ms/step - loss: 0.5115 - accuracy: 0.8430 - val_loss: 0.4502 - val_accuracy: 0.8630\n",
      "Epoch 3/5\n",
      "2344/2344 [==============================] - 12s 5ms/step - loss: 0.4069 - accuracy: 0.8747 - val_loss: 0.4179 - val_accuracy: 0.8747\n",
      "Epoch 4/5\n",
      "2344/2344 [==============================] - 11s 5ms/step - loss: 0.3387 - accuracy: 0.8966 - val_loss: 0.4060 - val_accuracy: 0.8788\n",
      "Epoch 5/5\n",
      "2344/2344 [==============================] - 11s 5ms/step - loss: 0.2843 - accuracy: 0.9131 - val_loss: 0.3971 - val_accuracy: 0.8825\n"
     ]
    }
   ],
   "source": [
    "model_bt32 = fit_model(create_model(lr = .001), X_train_scaled, X_test_scaled, y_train,\n",
    "                       y_test, batch_size = 32, epochs = 5)"
   ]
  },
  {
   "cell_type": "code",
   "execution_count": 11,
   "id": "ee3da106",
   "metadata": {},
   "outputs": [
    {
     "name": "stdout",
     "output_type": "stream",
     "text": [
      "Epoch 1/5\n",
      "1172/1172 [==============================] - 11s 9ms/step - loss: 1.0035 - accuracy: 0.6884 - val_loss: 0.5896 - val_accuracy: 0.8233\n",
      "Epoch 2/5\n",
      "1172/1172 [==============================] - 10s 8ms/step - loss: 0.5510 - accuracy: 0.8324 - val_loss: 0.4951 - val_accuracy: 0.8500\n",
      "Epoch 3/5\n",
      "1172/1172 [==============================] - 10s 8ms/step - loss: 0.4548 - accuracy: 0.8621 - val_loss: 0.4598 - val_accuracy: 0.8622\n",
      "Epoch 4/5\n",
      "1172/1172 [==============================] - 9s 8ms/step - loss: 0.3875 - accuracy: 0.8840 - val_loss: 0.4226 - val_accuracy: 0.8735\n",
      "Epoch 5/5\n",
      "1172/1172 [==============================] - 10s 8ms/step - loss: 0.3393 - accuracy: 0.8955 - val_loss: 0.4027 - val_accuracy: 0.8808\n"
     ]
    }
   ],
   "source": [
    "model_bt64 = fit_model(create_model(lr = .001), X_train_scaled, X_test_scaled, y_train,\n",
    "                       y_test, batch_size = 64, epochs = 5)"
   ]
  },
  {
   "cell_type": "code",
   "execution_count": 12,
   "id": "a101423d",
   "metadata": {},
   "outputs": [
    {
     "name": "stdout",
     "output_type": "stream",
     "text": [
      "Epoch 1/5\n",
      "586/586 [==============================] - 6s 10ms/step - loss: 1.1203 - accuracy: 0.6572 - val_loss: 0.6479 - val_accuracy: 0.8045\n",
      "Epoch 2/5\n",
      "586/586 [==============================] - 6s 10ms/step - loss: 0.6083 - accuracy: 0.8174 - val_loss: 0.5491 - val_accuracy: 0.8341\n",
      "Epoch 3/5\n",
      "586/586 [==============================] - 6s 10ms/step - loss: 0.5059 - accuracy: 0.8467 - val_loss: 0.4805 - val_accuracy: 0.8546\n",
      "Epoch 4/5\n",
      "586/586 [==============================] - 6s 10ms/step - loss: 0.4312 - accuracy: 0.8700 - val_loss: 0.4578 - val_accuracy: 0.8605\n",
      "Epoch 5/5\n",
      "586/586 [==============================] - 6s 10ms/step - loss: 0.3871 - accuracy: 0.8838 - val_loss: 0.4401 - val_accuracy: 0.8677\n"
     ]
    }
   ],
   "source": [
    "model_bt128 = fit_model(create_model(lr = .001), X_train_scaled, X_test_scaled,\n",
    "                        y_train, y_test, batch_size = 128, epochs = 5)"
   ]
  },
  {
   "cell_type": "code",
   "execution_count": 13,
   "id": "3b0aead4",
   "metadata": {},
   "outputs": [
    {
     "name": "stdout",
     "output_type": "stream",
     "text": [
      "Epoch 1/5\n",
      "147/147 [==============================] - 5s 32ms/step - loss: 1.4768 - accuracy: 0.5334 - val_loss: 0.7855 - val_accuracy: 0.7702\n",
      "Epoch 2/5\n",
      "147/147 [==============================] - 4s 30ms/step - loss: 0.7559 - accuracy: 0.7753 - val_loss: 0.6853 - val_accuracy: 0.7974\n",
      "Epoch 3/5\n",
      "147/147 [==============================] - 4s 30ms/step - loss: 0.6645 - accuracy: 0.8038 - val_loss: 0.6138 - val_accuracy: 0.8195\n",
      "Epoch 4/5\n",
      "147/147 [==============================] - 4s 30ms/step - loss: 0.5906 - accuracy: 0.8255 - val_loss: 0.5656 - val_accuracy: 0.8314\n",
      "Epoch 5/5\n",
      "147/147 [==============================] - 4s 30ms/step - loss: 0.5397 - accuracy: 0.8377 - val_loss: 0.5244 - val_accuracy: 0.8416\n"
     ]
    }
   ],
   "source": [
    "model_bt512 = fit_model(create_model(lr = .001), X_train_scaled, X_test_scaled, y_train,\n",
    "                        y_test, batch_size = 512, epochs = 5)"
   ]
  },
  {
   "cell_type": "code",
   "execution_count": 18,
   "id": "445e0bf4",
   "metadata": {},
   "outputs": [
    {
     "data": {
      "text/html": [
       "<div>\n",
       "<style scoped>\n",
       "    .dataframe tbody tr th:only-of-type {\n",
       "        vertical-align: middle;\n",
       "    }\n",
       "\n",
       "    .dataframe tbody tr th {\n",
       "        vertical-align: top;\n",
       "    }\n",
       "\n",
       "    .dataframe thead th {\n",
       "        text-align: right;\n",
       "    }\n",
       "</style>\n",
       "<table border=\"1\" class=\"dataframe\">\n",
       "  <thead>\n",
       "    <tr style=\"text-align: right;\">\n",
       "      <th></th>\n",
       "      <th>loss</th>\n",
       "      <th>accuracy</th>\n",
       "      <th>val_loss</th>\n",
       "      <th>val_accuracy</th>\n",
       "      <th>epoch</th>\n",
       "      <th>Batch Size</th>\n",
       "    </tr>\n",
       "  </thead>\n",
       "  <tbody>\n",
       "    <tr>\n",
       "      <th>0</th>\n",
       "      <td>0.776826</td>\n",
       "      <td>0.765000</td>\n",
       "      <td>0.589636</td>\n",
       "      <td>0.82332</td>\n",
       "      <td>0</td>\n",
       "      <td>64_</td>\n",
       "    </tr>\n",
       "    <tr>\n",
       "      <th>1</th>\n",
       "      <td>0.532674</td>\n",
       "      <td>0.838160</td>\n",
       "      <td>0.495101</td>\n",
       "      <td>0.84996</td>\n",
       "      <td>1</td>\n",
       "      <td>64_</td>\n",
       "    </tr>\n",
       "    <tr>\n",
       "      <th>2</th>\n",
       "      <td>0.444741</td>\n",
       "      <td>0.864707</td>\n",
       "      <td>0.459752</td>\n",
       "      <td>0.86220</td>\n",
       "      <td>2</td>\n",
       "      <td>64_</td>\n",
       "    </tr>\n",
       "    <tr>\n",
       "      <th>3</th>\n",
       "      <td>0.384425</td>\n",
       "      <td>0.885067</td>\n",
       "      <td>0.422634</td>\n",
       "      <td>0.87352</td>\n",
       "      <td>3</td>\n",
       "      <td>64_</td>\n",
       "    </tr>\n",
       "    <tr>\n",
       "      <th>4</th>\n",
       "      <td>0.337764</td>\n",
       "      <td>0.897240</td>\n",
       "      <td>0.402739</td>\n",
       "      <td>0.88076</td>\n",
       "      <td>4</td>\n",
       "      <td>64_</td>\n",
       "    </tr>\n",
       "  </tbody>\n",
       "</table>\n",
       "</div>"
      ],
      "text/plain": [
       "       loss  accuracy  val_loss  val_accuracy  epoch Batch Size\n",
       "0  0.776826  0.765000  0.589636       0.82332      0        64_\n",
       "1  0.532674  0.838160  0.495101       0.84996      1        64_\n",
       "2  0.444741  0.864707  0.459752       0.86220      2        64_\n",
       "3  0.384425  0.885067  0.422634       0.87352      3        64_\n",
       "4  0.337764  0.897240  0.402739       0.88076      4        64_"
      ]
     },
     "execution_count": 18,
     "metadata": {},
     "output_type": "execute_result"
    }
   ],
   "source": [
    "import seaborn as sns\n",
    "import pandas as pd\n",
    "\n",
    "batch_sizes = []\n",
    "\n",
    "for exp, result in zip([model_bt64, model_bt128, model_bt32, model_bt512], [\"64_\", \"128_\", \"256_\", \"512_\"]):\n",
    "\n",
    "    df = pd.DataFrame.from_dict(exp.history)\n",
    "    df['epoch'] = df.index.values\n",
    "    df['Batch Size'] = result\n",
    "\n",
    "    batch_sizes.append(df)\n",
    "\n",
    "df = pd.concat(batch_sizes)\n",
    "df['Batch Size'] = df['Batch Size'].astype('str')\n",
    "df.head()"
   ]
  },
  {
   "cell_type": "code",
   "execution_count": 15,
   "id": "36f57262",
   "metadata": {
    "collapsed": true
   },
   "outputs": [
    {
     "ename": "ValueError",
     "evalue": "cannot reindex from a duplicate axis",
     "output_type": "error",
     "traceback": [
      "\u001b[0;31m---------------------------------------------------------------------------\u001b[0m",
      "\u001b[0;31mValueError\u001b[0m                                Traceback (most recent call last)",
      "\u001b[0;32m/var/folders/qs/cslr23xj55q4dkt936pnp1nc0000gn/T/ipykernel_76625/1384246596.py\u001b[0m in \u001b[0;36m<module>\u001b[0;34m\u001b[0m\n\u001b[0;32m----> 1\u001b[0;31m \u001b[0msns\u001b[0m\u001b[0;34m.\u001b[0m\u001b[0mlineplot\u001b[0m\u001b[0;34m(\u001b[0m\u001b[0mx\u001b[0m\u001b[0;34m=\u001b[0m\u001b[0;34m'epoch'\u001b[0m\u001b[0;34m,\u001b[0m \u001b[0my\u001b[0m\u001b[0;34m=\u001b[0m\u001b[0;34m'val_accuracy'\u001b[0m\u001b[0;34m,\u001b[0m \u001b[0mhue\u001b[0m\u001b[0;34m=\u001b[0m\u001b[0;34m'Batch Size'\u001b[0m\u001b[0;34m,\u001b[0m \u001b[0mdata\u001b[0m\u001b[0;34m=\u001b[0m\u001b[0mdf\u001b[0m\u001b[0;34m)\u001b[0m\u001b[0;34m;\u001b[0m\u001b[0;34m\u001b[0m\u001b[0;34m\u001b[0m\u001b[0m\n\u001b[0m",
      "\u001b[0;32m/opt/anaconda3/envs/tf/lib/python3.9/site-packages/seaborn/_decorators.py\u001b[0m in \u001b[0;36minner_f\u001b[0;34m(*args, **kwargs)\u001b[0m\n\u001b[1;32m     44\u001b[0m             )\n\u001b[1;32m     45\u001b[0m         \u001b[0mkwargs\u001b[0m\u001b[0;34m.\u001b[0m\u001b[0mupdate\u001b[0m\u001b[0;34m(\u001b[0m\u001b[0;34m{\u001b[0m\u001b[0mk\u001b[0m\u001b[0;34m:\u001b[0m \u001b[0marg\u001b[0m \u001b[0;32mfor\u001b[0m \u001b[0mk\u001b[0m\u001b[0;34m,\u001b[0m \u001b[0marg\u001b[0m \u001b[0;32min\u001b[0m \u001b[0mzip\u001b[0m\u001b[0;34m(\u001b[0m\u001b[0msig\u001b[0m\u001b[0;34m.\u001b[0m\u001b[0mparameters\u001b[0m\u001b[0;34m,\u001b[0m \u001b[0margs\u001b[0m\u001b[0;34m)\u001b[0m\u001b[0;34m}\u001b[0m\u001b[0;34m)\u001b[0m\u001b[0;34m\u001b[0m\u001b[0;34m\u001b[0m\u001b[0m\n\u001b[0;32m---> 46\u001b[0;31m         \u001b[0;32mreturn\u001b[0m \u001b[0mf\u001b[0m\u001b[0;34m(\u001b[0m\u001b[0;34m**\u001b[0m\u001b[0mkwargs\u001b[0m\u001b[0;34m)\u001b[0m\u001b[0;34m\u001b[0m\u001b[0;34m\u001b[0m\u001b[0m\n\u001b[0m\u001b[1;32m     47\u001b[0m     \u001b[0;32mreturn\u001b[0m \u001b[0minner_f\u001b[0m\u001b[0;34m\u001b[0m\u001b[0;34m\u001b[0m\u001b[0m\n\u001b[1;32m     48\u001b[0m \u001b[0;34m\u001b[0m\u001b[0m\n",
      "\u001b[0;32m/opt/anaconda3/envs/tf/lib/python3.9/site-packages/seaborn/relational.py\u001b[0m in \u001b[0;36mlineplot\u001b[0;34m(x, y, hue, size, style, data, palette, hue_order, hue_norm, sizes, size_order, size_norm, dashes, markers, style_order, units, estimator, ci, n_boot, seed, sort, err_style, err_kws, legend, ax, **kwargs)\u001b[0m\n\u001b[1;32m    708\u001b[0m     \u001b[0mp\u001b[0m\u001b[0;34m.\u001b[0m\u001b[0m_attach\u001b[0m\u001b[0;34m(\u001b[0m\u001b[0max\u001b[0m\u001b[0;34m)\u001b[0m\u001b[0;34m\u001b[0m\u001b[0;34m\u001b[0m\u001b[0m\n\u001b[1;32m    709\u001b[0m \u001b[0;34m\u001b[0m\u001b[0m\n\u001b[0;32m--> 710\u001b[0;31m     \u001b[0mp\u001b[0m\u001b[0;34m.\u001b[0m\u001b[0mplot\u001b[0m\u001b[0;34m(\u001b[0m\u001b[0max\u001b[0m\u001b[0;34m,\u001b[0m \u001b[0mkwargs\u001b[0m\u001b[0;34m)\u001b[0m\u001b[0;34m\u001b[0m\u001b[0;34m\u001b[0m\u001b[0m\n\u001b[0m\u001b[1;32m    711\u001b[0m     \u001b[0;32mreturn\u001b[0m \u001b[0max\u001b[0m\u001b[0;34m\u001b[0m\u001b[0;34m\u001b[0m\u001b[0m\n\u001b[1;32m    712\u001b[0m \u001b[0;34m\u001b[0m\u001b[0m\n",
      "\u001b[0;32m/opt/anaconda3/envs/tf/lib/python3.9/site-packages/seaborn/relational.py\u001b[0m in \u001b[0;36mplot\u001b[0;34m(self, ax, kws)\u001b[0m\n\u001b[1;32m    469\u001b[0m         \u001b[0;31m# Loop over the semantic subsets and add to the plot\u001b[0m\u001b[0;34m\u001b[0m\u001b[0;34m\u001b[0m\u001b[0m\n\u001b[1;32m    470\u001b[0m         \u001b[0mgrouping_vars\u001b[0m \u001b[0;34m=\u001b[0m \u001b[0;34m\"hue\"\u001b[0m\u001b[0;34m,\u001b[0m \u001b[0;34m\"size\"\u001b[0m\u001b[0;34m,\u001b[0m \u001b[0;34m\"style\"\u001b[0m\u001b[0;34m\u001b[0m\u001b[0;34m\u001b[0m\u001b[0m\n\u001b[0;32m--> 471\u001b[0;31m         \u001b[0;32mfor\u001b[0m \u001b[0msub_vars\u001b[0m\u001b[0;34m,\u001b[0m \u001b[0msub_data\u001b[0m \u001b[0;32min\u001b[0m \u001b[0mself\u001b[0m\u001b[0;34m.\u001b[0m\u001b[0miter_data\u001b[0m\u001b[0;34m(\u001b[0m\u001b[0mgrouping_vars\u001b[0m\u001b[0;34m,\u001b[0m \u001b[0mfrom_comp_data\u001b[0m\u001b[0;34m=\u001b[0m\u001b[0;32mTrue\u001b[0m\u001b[0;34m)\u001b[0m\u001b[0;34m:\u001b[0m\u001b[0;34m\u001b[0m\u001b[0;34m\u001b[0m\u001b[0m\n\u001b[0m\u001b[1;32m    472\u001b[0m \u001b[0;34m\u001b[0m\u001b[0m\n\u001b[1;32m    473\u001b[0m             \u001b[0;32mif\u001b[0m \u001b[0mself\u001b[0m\u001b[0;34m.\u001b[0m\u001b[0msort\u001b[0m\u001b[0;34m:\u001b[0m\u001b[0;34m\u001b[0m\u001b[0;34m\u001b[0m\u001b[0m\n",
      "\u001b[0;32m/opt/anaconda3/envs/tf/lib/python3.9/site-packages/seaborn/_core.py\u001b[0m in \u001b[0;36miter_data\u001b[0;34m(self, grouping_vars, reverse, from_comp_data)\u001b[0m\n\u001b[1;32m    981\u001b[0m \u001b[0;34m\u001b[0m\u001b[0m\n\u001b[1;32m    982\u001b[0m         \u001b[0;32mif\u001b[0m \u001b[0mfrom_comp_data\u001b[0m\u001b[0;34m:\u001b[0m\u001b[0;34m\u001b[0m\u001b[0;34m\u001b[0m\u001b[0m\n\u001b[0;32m--> 983\u001b[0;31m             \u001b[0mdata\u001b[0m \u001b[0;34m=\u001b[0m \u001b[0mself\u001b[0m\u001b[0;34m.\u001b[0m\u001b[0mcomp_data\u001b[0m\u001b[0;34m\u001b[0m\u001b[0;34m\u001b[0m\u001b[0m\n\u001b[0m\u001b[1;32m    984\u001b[0m         \u001b[0;32melse\u001b[0m\u001b[0;34m:\u001b[0m\u001b[0;34m\u001b[0m\u001b[0;34m\u001b[0m\u001b[0m\n\u001b[1;32m    985\u001b[0m             \u001b[0mdata\u001b[0m \u001b[0;34m=\u001b[0m \u001b[0mself\u001b[0m\u001b[0;34m.\u001b[0m\u001b[0mplot_data\u001b[0m\u001b[0;34m\u001b[0m\u001b[0;34m\u001b[0m\u001b[0m\n",
      "\u001b[0;32m/opt/anaconda3/envs/tf/lib/python3.9/site-packages/seaborn/_core.py\u001b[0m in \u001b[0;36mcomp_data\u001b[0;34m(self)\u001b[0m\n\u001b[1;32m   1055\u001b[0m                     \u001b[0morig\u001b[0m \u001b[0;34m=\u001b[0m \u001b[0mself\u001b[0m\u001b[0;34m.\u001b[0m\u001b[0mplot_data\u001b[0m\u001b[0;34m[\u001b[0m\u001b[0mvar\u001b[0m\u001b[0;34m]\u001b[0m\u001b[0;34m.\u001b[0m\u001b[0mdropna\u001b[0m\u001b[0;34m(\u001b[0m\u001b[0;34m)\u001b[0m\u001b[0;34m\u001b[0m\u001b[0;34m\u001b[0m\u001b[0m\n\u001b[1;32m   1056\u001b[0m                 \u001b[0mcomp_col\u001b[0m \u001b[0;34m=\u001b[0m \u001b[0mpd\u001b[0m\u001b[0;34m.\u001b[0m\u001b[0mSeries\u001b[0m\u001b[0;34m(\u001b[0m\u001b[0mindex\u001b[0m\u001b[0;34m=\u001b[0m\u001b[0morig\u001b[0m\u001b[0;34m.\u001b[0m\u001b[0mindex\u001b[0m\u001b[0;34m,\u001b[0m \u001b[0mdtype\u001b[0m\u001b[0;34m=\u001b[0m\u001b[0mfloat\u001b[0m\u001b[0;34m,\u001b[0m \u001b[0mname\u001b[0m\u001b[0;34m=\u001b[0m\u001b[0mvar\u001b[0m\u001b[0;34m)\u001b[0m\u001b[0;34m\u001b[0m\u001b[0;34m\u001b[0m\u001b[0m\n\u001b[0;32m-> 1057\u001b[0;31m                 \u001b[0mcomp_col\u001b[0m\u001b[0;34m.\u001b[0m\u001b[0mloc\u001b[0m\u001b[0;34m[\u001b[0m\u001b[0morig\u001b[0m\u001b[0;34m.\u001b[0m\u001b[0mindex\u001b[0m\u001b[0;34m]\u001b[0m \u001b[0;34m=\u001b[0m \u001b[0mpd\u001b[0m\u001b[0;34m.\u001b[0m\u001b[0mto_numeric\u001b[0m\u001b[0;34m(\u001b[0m\u001b[0maxis\u001b[0m\u001b[0;34m.\u001b[0m\u001b[0mconvert_units\u001b[0m\u001b[0;34m(\u001b[0m\u001b[0morig\u001b[0m\u001b[0;34m)\u001b[0m\u001b[0;34m)\u001b[0m\u001b[0;34m\u001b[0m\u001b[0;34m\u001b[0m\u001b[0m\n\u001b[0m\u001b[1;32m   1058\u001b[0m \u001b[0;34m\u001b[0m\u001b[0m\n\u001b[1;32m   1059\u001b[0m                 \u001b[0;32mif\u001b[0m \u001b[0maxis\u001b[0m\u001b[0;34m.\u001b[0m\u001b[0mget_scale\u001b[0m\u001b[0;34m(\u001b[0m\u001b[0;34m)\u001b[0m \u001b[0;34m==\u001b[0m \u001b[0;34m\"log\"\u001b[0m\u001b[0;34m:\u001b[0m\u001b[0;34m\u001b[0m\u001b[0;34m\u001b[0m\u001b[0m\n",
      "\u001b[0;32m/opt/anaconda3/envs/tf/lib/python3.9/site-packages/pandas/core/indexing.py\u001b[0m in \u001b[0;36m__setitem__\u001b[0;34m(self, key, value)\u001b[0m\n\u001b[1;32m    721\u001b[0m \u001b[0;34m\u001b[0m\u001b[0m\n\u001b[1;32m    722\u001b[0m         \u001b[0miloc\u001b[0m \u001b[0;34m=\u001b[0m \u001b[0mself\u001b[0m \u001b[0;32mif\u001b[0m \u001b[0mself\u001b[0m\u001b[0;34m.\u001b[0m\u001b[0mname\u001b[0m \u001b[0;34m==\u001b[0m \u001b[0;34m\"iloc\"\u001b[0m \u001b[0;32melse\u001b[0m \u001b[0mself\u001b[0m\u001b[0;34m.\u001b[0m\u001b[0mobj\u001b[0m\u001b[0;34m.\u001b[0m\u001b[0miloc\u001b[0m\u001b[0;34m\u001b[0m\u001b[0;34m\u001b[0m\u001b[0m\n\u001b[0;32m--> 723\u001b[0;31m         \u001b[0miloc\u001b[0m\u001b[0;34m.\u001b[0m\u001b[0m_setitem_with_indexer\u001b[0m\u001b[0;34m(\u001b[0m\u001b[0mindexer\u001b[0m\u001b[0;34m,\u001b[0m \u001b[0mvalue\u001b[0m\u001b[0;34m,\u001b[0m \u001b[0mself\u001b[0m\u001b[0;34m.\u001b[0m\u001b[0mname\u001b[0m\u001b[0;34m)\u001b[0m\u001b[0;34m\u001b[0m\u001b[0;34m\u001b[0m\u001b[0m\n\u001b[0m\u001b[1;32m    724\u001b[0m \u001b[0;34m\u001b[0m\u001b[0m\n\u001b[1;32m    725\u001b[0m     \u001b[0;32mdef\u001b[0m \u001b[0m_validate_key\u001b[0m\u001b[0;34m(\u001b[0m\u001b[0mself\u001b[0m\u001b[0;34m,\u001b[0m \u001b[0mkey\u001b[0m\u001b[0;34m,\u001b[0m \u001b[0maxis\u001b[0m\u001b[0;34m:\u001b[0m \u001b[0mint\u001b[0m\u001b[0;34m)\u001b[0m\u001b[0;34m:\u001b[0m\u001b[0;34m\u001b[0m\u001b[0;34m\u001b[0m\u001b[0m\n",
      "\u001b[0;32m/opt/anaconda3/envs/tf/lib/python3.9/site-packages/pandas/core/indexing.py\u001b[0m in \u001b[0;36m_setitem_with_indexer\u001b[0;34m(self, indexer, value, name)\u001b[0m\n\u001b[1;32m   1730\u001b[0m             \u001b[0mself\u001b[0m\u001b[0;34m.\u001b[0m\u001b[0m_setitem_with_indexer_split_path\u001b[0m\u001b[0;34m(\u001b[0m\u001b[0mindexer\u001b[0m\u001b[0;34m,\u001b[0m \u001b[0mvalue\u001b[0m\u001b[0;34m,\u001b[0m \u001b[0mname\u001b[0m\u001b[0;34m)\u001b[0m\u001b[0;34m\u001b[0m\u001b[0;34m\u001b[0m\u001b[0m\n\u001b[1;32m   1731\u001b[0m         \u001b[0;32melse\u001b[0m\u001b[0;34m:\u001b[0m\u001b[0;34m\u001b[0m\u001b[0;34m\u001b[0m\u001b[0m\n\u001b[0;32m-> 1732\u001b[0;31m             \u001b[0mself\u001b[0m\u001b[0;34m.\u001b[0m\u001b[0m_setitem_single_block\u001b[0m\u001b[0;34m(\u001b[0m\u001b[0mindexer\u001b[0m\u001b[0;34m,\u001b[0m \u001b[0mvalue\u001b[0m\u001b[0;34m,\u001b[0m \u001b[0mname\u001b[0m\u001b[0;34m)\u001b[0m\u001b[0;34m\u001b[0m\u001b[0;34m\u001b[0m\u001b[0m\n\u001b[0m\u001b[1;32m   1733\u001b[0m \u001b[0;34m\u001b[0m\u001b[0m\n\u001b[1;32m   1734\u001b[0m     \u001b[0;32mdef\u001b[0m \u001b[0m_setitem_with_indexer_split_path\u001b[0m\u001b[0;34m(\u001b[0m\u001b[0mself\u001b[0m\u001b[0;34m,\u001b[0m \u001b[0mindexer\u001b[0m\u001b[0;34m,\u001b[0m \u001b[0mvalue\u001b[0m\u001b[0;34m,\u001b[0m \u001b[0mname\u001b[0m\u001b[0;34m:\u001b[0m \u001b[0mstr\u001b[0m\u001b[0;34m)\u001b[0m\u001b[0;34m:\u001b[0m\u001b[0;34m\u001b[0m\u001b[0;34m\u001b[0m\u001b[0m\n",
      "\u001b[0;32m/opt/anaconda3/envs/tf/lib/python3.9/site-packages/pandas/core/indexing.py\u001b[0m in \u001b[0;36m_setitem_single_block\u001b[0;34m(self, indexer, value, name)\u001b[0m\n\u001b[1;32m   1957\u001b[0m             \u001b[0;31m# setting for extensionarrays that store dicts. Need to decide\u001b[0m\u001b[0;34m\u001b[0m\u001b[0;34m\u001b[0m\u001b[0m\n\u001b[1;32m   1958\u001b[0m             \u001b[0;31m# if it's worth supporting that.\u001b[0m\u001b[0;34m\u001b[0m\u001b[0;34m\u001b[0m\u001b[0m\n\u001b[0;32m-> 1959\u001b[0;31m             \u001b[0mvalue\u001b[0m \u001b[0;34m=\u001b[0m \u001b[0mself\u001b[0m\u001b[0;34m.\u001b[0m\u001b[0m_align_series\u001b[0m\u001b[0;34m(\u001b[0m\u001b[0mindexer\u001b[0m\u001b[0;34m,\u001b[0m \u001b[0mSeries\u001b[0m\u001b[0;34m(\u001b[0m\u001b[0mvalue\u001b[0m\u001b[0;34m)\u001b[0m\u001b[0;34m)\u001b[0m\u001b[0;34m\u001b[0m\u001b[0;34m\u001b[0m\u001b[0m\n\u001b[0m\u001b[1;32m   1960\u001b[0m \u001b[0;34m\u001b[0m\u001b[0m\n\u001b[1;32m   1961\u001b[0m         \u001b[0;32melif\u001b[0m \u001b[0misinstance\u001b[0m\u001b[0;34m(\u001b[0m\u001b[0mvalue\u001b[0m\u001b[0;34m,\u001b[0m \u001b[0mABCDataFrame\u001b[0m\u001b[0;34m)\u001b[0m \u001b[0;32mand\u001b[0m \u001b[0mname\u001b[0m \u001b[0;34m!=\u001b[0m \u001b[0;34m\"iloc\"\u001b[0m\u001b[0;34m:\u001b[0m\u001b[0;34m\u001b[0m\u001b[0;34m\u001b[0m\u001b[0m\n",
      "\u001b[0;32m/opt/anaconda3/envs/tf/lib/python3.9/site-packages/pandas/core/indexing.py\u001b[0m in \u001b[0;36m_align_series\u001b[0;34m(self, indexer, ser, multiindex_indexer)\u001b[0m\n\u001b[1;32m   2094\u001b[0m             \u001b[0;31m# series, so need to broadcast (see GH5206)\u001b[0m\u001b[0;34m\u001b[0m\u001b[0;34m\u001b[0m\u001b[0m\n\u001b[1;32m   2095\u001b[0m             \u001b[0;32mif\u001b[0m \u001b[0msum_aligners\u001b[0m \u001b[0;34m==\u001b[0m \u001b[0mself\u001b[0m\u001b[0;34m.\u001b[0m\u001b[0mndim\u001b[0m \u001b[0;32mand\u001b[0m \u001b[0mall\u001b[0m\u001b[0;34m(\u001b[0m\u001b[0mis_sequence\u001b[0m\u001b[0;34m(\u001b[0m\u001b[0m_\u001b[0m\u001b[0;34m)\u001b[0m \u001b[0;32mfor\u001b[0m \u001b[0m_\u001b[0m \u001b[0;32min\u001b[0m \u001b[0mindexer\u001b[0m\u001b[0;34m)\u001b[0m\u001b[0;34m:\u001b[0m\u001b[0;34m\u001b[0m\u001b[0;34m\u001b[0m\u001b[0m\n\u001b[0;32m-> 2096\u001b[0;31m                 \u001b[0mser\u001b[0m \u001b[0;34m=\u001b[0m \u001b[0mser\u001b[0m\u001b[0;34m.\u001b[0m\u001b[0mreindex\u001b[0m\u001b[0;34m(\u001b[0m\u001b[0mobj\u001b[0m\u001b[0;34m.\u001b[0m\u001b[0maxes\u001b[0m\u001b[0;34m[\u001b[0m\u001b[0;36m0\u001b[0m\u001b[0;34m]\u001b[0m\u001b[0;34m[\u001b[0m\u001b[0mindexer\u001b[0m\u001b[0;34m[\u001b[0m\u001b[0;36m0\u001b[0m\u001b[0;34m]\u001b[0m\u001b[0;34m]\u001b[0m\u001b[0;34m,\u001b[0m \u001b[0mcopy\u001b[0m\u001b[0;34m=\u001b[0m\u001b[0;32mTrue\u001b[0m\u001b[0;34m)\u001b[0m\u001b[0;34m.\u001b[0m\u001b[0m_values\u001b[0m\u001b[0;34m\u001b[0m\u001b[0;34m\u001b[0m\u001b[0m\n\u001b[0m\u001b[1;32m   2097\u001b[0m \u001b[0;34m\u001b[0m\u001b[0m\n\u001b[1;32m   2098\u001b[0m                 \u001b[0;31m# single indexer\u001b[0m\u001b[0;34m\u001b[0m\u001b[0;34m\u001b[0m\u001b[0m\n",
      "\u001b[0;32m/opt/anaconda3/envs/tf/lib/python3.9/site-packages/pandas/core/series.py\u001b[0m in \u001b[0;36mreindex\u001b[0;34m(self, index, **kwargs)\u001b[0m\n\u001b[1;32m   4578\u001b[0m     )\n\u001b[1;32m   4579\u001b[0m     \u001b[0;32mdef\u001b[0m \u001b[0mreindex\u001b[0m\u001b[0;34m(\u001b[0m\u001b[0mself\u001b[0m\u001b[0;34m,\u001b[0m \u001b[0mindex\u001b[0m\u001b[0;34m=\u001b[0m\u001b[0;32mNone\u001b[0m\u001b[0;34m,\u001b[0m \u001b[0;34m**\u001b[0m\u001b[0mkwargs\u001b[0m\u001b[0;34m)\u001b[0m\u001b[0;34m:\u001b[0m\u001b[0;34m\u001b[0m\u001b[0;34m\u001b[0m\u001b[0m\n\u001b[0;32m-> 4580\u001b[0;31m         \u001b[0;32mreturn\u001b[0m \u001b[0msuper\u001b[0m\u001b[0;34m(\u001b[0m\u001b[0;34m)\u001b[0m\u001b[0;34m.\u001b[0m\u001b[0mreindex\u001b[0m\u001b[0;34m(\u001b[0m\u001b[0mindex\u001b[0m\u001b[0;34m=\u001b[0m\u001b[0mindex\u001b[0m\u001b[0;34m,\u001b[0m \u001b[0;34m**\u001b[0m\u001b[0mkwargs\u001b[0m\u001b[0;34m)\u001b[0m\u001b[0;34m\u001b[0m\u001b[0;34m\u001b[0m\u001b[0m\n\u001b[0m\u001b[1;32m   4581\u001b[0m \u001b[0;34m\u001b[0m\u001b[0m\n\u001b[1;32m   4582\u001b[0m     \u001b[0;34m@\u001b[0m\u001b[0mdeprecate_nonkeyword_arguments\u001b[0m\u001b[0;34m(\u001b[0m\u001b[0mversion\u001b[0m\u001b[0;34m=\u001b[0m\u001b[0;32mNone\u001b[0m\u001b[0;34m,\u001b[0m \u001b[0mallowed_args\u001b[0m\u001b[0;34m=\u001b[0m\u001b[0;34m[\u001b[0m\u001b[0;34m\"self\"\u001b[0m\u001b[0;34m,\u001b[0m \u001b[0;34m\"labels\"\u001b[0m\u001b[0;34m]\u001b[0m\u001b[0;34m)\u001b[0m\u001b[0;34m\u001b[0m\u001b[0;34m\u001b[0m\u001b[0m\n",
      "\u001b[0;32m/opt/anaconda3/envs/tf/lib/python3.9/site-packages/pandas/core/generic.py\u001b[0m in \u001b[0;36mreindex\u001b[0;34m(self, *args, **kwargs)\u001b[0m\n\u001b[1;32m   4816\u001b[0m \u001b[0;34m\u001b[0m\u001b[0m\n\u001b[1;32m   4817\u001b[0m         \u001b[0;31m# perform the reindex on the axes\u001b[0m\u001b[0;34m\u001b[0m\u001b[0;34m\u001b[0m\u001b[0m\n\u001b[0;32m-> 4818\u001b[0;31m         return self._reindex_axes(\n\u001b[0m\u001b[1;32m   4819\u001b[0m             \u001b[0maxes\u001b[0m\u001b[0;34m,\u001b[0m \u001b[0mlevel\u001b[0m\u001b[0;34m,\u001b[0m \u001b[0mlimit\u001b[0m\u001b[0;34m,\u001b[0m \u001b[0mtolerance\u001b[0m\u001b[0;34m,\u001b[0m \u001b[0mmethod\u001b[0m\u001b[0;34m,\u001b[0m \u001b[0mfill_value\u001b[0m\u001b[0;34m,\u001b[0m \u001b[0mcopy\u001b[0m\u001b[0;34m\u001b[0m\u001b[0;34m\u001b[0m\u001b[0m\n\u001b[1;32m   4820\u001b[0m         ).__finalize__(self, method=\"reindex\")\n",
      "\u001b[0;32m/opt/anaconda3/envs/tf/lib/python3.9/site-packages/pandas/core/generic.py\u001b[0m in \u001b[0;36m_reindex_axes\u001b[0;34m(self, axes, level, limit, tolerance, method, fill_value, copy)\u001b[0m\n\u001b[1;32m   4837\u001b[0m \u001b[0;34m\u001b[0m\u001b[0m\n\u001b[1;32m   4838\u001b[0m             \u001b[0maxis\u001b[0m \u001b[0;34m=\u001b[0m \u001b[0mself\u001b[0m\u001b[0;34m.\u001b[0m\u001b[0m_get_axis_number\u001b[0m\u001b[0;34m(\u001b[0m\u001b[0ma\u001b[0m\u001b[0;34m)\u001b[0m\u001b[0;34m\u001b[0m\u001b[0;34m\u001b[0m\u001b[0m\n\u001b[0;32m-> 4839\u001b[0;31m             obj = obj._reindex_with_indexers(\n\u001b[0m\u001b[1;32m   4840\u001b[0m                 \u001b[0;34m{\u001b[0m\u001b[0maxis\u001b[0m\u001b[0;34m:\u001b[0m \u001b[0;34m[\u001b[0m\u001b[0mnew_index\u001b[0m\u001b[0;34m,\u001b[0m \u001b[0mindexer\u001b[0m\u001b[0;34m]\u001b[0m\u001b[0;34m}\u001b[0m\u001b[0;34m,\u001b[0m\u001b[0;34m\u001b[0m\u001b[0;34m\u001b[0m\u001b[0m\n\u001b[1;32m   4841\u001b[0m                 \u001b[0mfill_value\u001b[0m\u001b[0;34m=\u001b[0m\u001b[0mfill_value\u001b[0m\u001b[0;34m,\u001b[0m\u001b[0;34m\u001b[0m\u001b[0;34m\u001b[0m\u001b[0m\n",
      "\u001b[0;32m/opt/anaconda3/envs/tf/lib/python3.9/site-packages/pandas/core/generic.py\u001b[0m in \u001b[0;36m_reindex_with_indexers\u001b[0;34m(self, reindexers, fill_value, copy, allow_dups)\u001b[0m\n\u001b[1;32m   4881\u001b[0m \u001b[0;34m\u001b[0m\u001b[0m\n\u001b[1;32m   4882\u001b[0m             \u001b[0;31m# TODO: speed up on homogeneous DataFrame objects\u001b[0m\u001b[0;34m\u001b[0m\u001b[0;34m\u001b[0m\u001b[0m\n\u001b[0;32m-> 4883\u001b[0;31m             new_data = new_data.reindex_indexer(\n\u001b[0m\u001b[1;32m   4884\u001b[0m                 \u001b[0mindex\u001b[0m\u001b[0;34m,\u001b[0m\u001b[0;34m\u001b[0m\u001b[0;34m\u001b[0m\u001b[0m\n\u001b[1;32m   4885\u001b[0m                 \u001b[0mindexer\u001b[0m\u001b[0;34m,\u001b[0m\u001b[0;34m\u001b[0m\u001b[0;34m\u001b[0m\u001b[0m\n",
      "\u001b[0;32m/opt/anaconda3/envs/tf/lib/python3.9/site-packages/pandas/core/internals/managers.py\u001b[0m in \u001b[0;36mreindex_indexer\u001b[0;34m(self, new_axis, indexer, axis, fill_value, allow_dups, copy, consolidate, only_slice)\u001b[0m\n\u001b[1;32m    668\u001b[0m         \u001b[0;31m# some axes don't allow reindexing with dups\u001b[0m\u001b[0;34m\u001b[0m\u001b[0;34m\u001b[0m\u001b[0m\n\u001b[1;32m    669\u001b[0m         \u001b[0;32mif\u001b[0m \u001b[0;32mnot\u001b[0m \u001b[0mallow_dups\u001b[0m\u001b[0;34m:\u001b[0m\u001b[0;34m\u001b[0m\u001b[0;34m\u001b[0m\u001b[0m\n\u001b[0;32m--> 670\u001b[0;31m             \u001b[0mself\u001b[0m\u001b[0;34m.\u001b[0m\u001b[0maxes\u001b[0m\u001b[0;34m[\u001b[0m\u001b[0maxis\u001b[0m\u001b[0;34m]\u001b[0m\u001b[0;34m.\u001b[0m\u001b[0m_validate_can_reindex\u001b[0m\u001b[0;34m(\u001b[0m\u001b[0mindexer\u001b[0m\u001b[0;34m)\u001b[0m\u001b[0;34m\u001b[0m\u001b[0;34m\u001b[0m\u001b[0m\n\u001b[0m\u001b[1;32m    671\u001b[0m \u001b[0;34m\u001b[0m\u001b[0m\n\u001b[1;32m    672\u001b[0m         \u001b[0;32mif\u001b[0m \u001b[0maxis\u001b[0m \u001b[0;34m>=\u001b[0m \u001b[0mself\u001b[0m\u001b[0;34m.\u001b[0m\u001b[0mndim\u001b[0m\u001b[0;34m:\u001b[0m\u001b[0;34m\u001b[0m\u001b[0;34m\u001b[0m\u001b[0m\n",
      "\u001b[0;32m/opt/anaconda3/envs/tf/lib/python3.9/site-packages/pandas/core/indexes/base.py\u001b[0m in \u001b[0;36m_validate_can_reindex\u001b[0;34m(self, indexer)\u001b[0m\n\u001b[1;32m   3783\u001b[0m         \u001b[0;31m# trying to reindex on an axis with duplicates\u001b[0m\u001b[0;34m\u001b[0m\u001b[0;34m\u001b[0m\u001b[0m\n\u001b[1;32m   3784\u001b[0m         \u001b[0;32mif\u001b[0m \u001b[0;32mnot\u001b[0m \u001b[0mself\u001b[0m\u001b[0;34m.\u001b[0m\u001b[0m_index_as_unique\u001b[0m \u001b[0;32mand\u001b[0m \u001b[0mlen\u001b[0m\u001b[0;34m(\u001b[0m\u001b[0mindexer\u001b[0m\u001b[0;34m)\u001b[0m\u001b[0;34m:\u001b[0m\u001b[0;34m\u001b[0m\u001b[0;34m\u001b[0m\u001b[0m\n\u001b[0;32m-> 3785\u001b[0;31m             \u001b[0;32mraise\u001b[0m \u001b[0mValueError\u001b[0m\u001b[0;34m(\u001b[0m\u001b[0;34m\"cannot reindex from a duplicate axis\"\u001b[0m\u001b[0;34m)\u001b[0m\u001b[0;34m\u001b[0m\u001b[0;34m\u001b[0m\u001b[0m\n\u001b[0m\u001b[1;32m   3786\u001b[0m \u001b[0;34m\u001b[0m\u001b[0m\n\u001b[1;32m   3787\u001b[0m     def reindex(\n",
      "\u001b[0;31mValueError\u001b[0m: cannot reindex from a duplicate axis"
     ]
    },
    {
     "data": {
      "image/png": "[encoded data removed]",
      "text/plain": [
       "<Figure size 432x288 with 1 Axes>"
      ]
     },
     "metadata": {
      "needs_background": "light"
     },
     "output_type": "display_data"
    }
   ],
   "source": [
    "model = create_model(lr=1)\n",
    "lr_1 = model.fit(X_train_scaled, y_train, \n",
    "          validation_data=(X_test_scaled, y_test),\n",
    "          workers=-2, \n",
    "          epochs=10, \n",
    "          batch_size=256, \n",
    "          verbose=1, \n",
    "          callbacks=[tensorboard])"
   ]
  },
  {
   "cell_type": "code",
   "execution_count": null,
   "id": "ce627224",
   "metadata": {},
   "outputs": [],
   "source": [
    "model = create_model(lr=.1)\n",
    "lr_01 = model.fit(X_train_scaled, y_train, \n",
    "          validation_data=(X_test_scaled, y_test),\n",
    "          workers=-2, \n",
    "          epochs=10, \n",
    "          batch_size=256, \n",
    "          verbose=1, \n",
    "          callbacks=[tensorboard])"
   ]
  },
  {
   "cell_type": "code",
   "execution_count": null,
   "id": "ef8fb629",
   "metadata": {},
   "outputs": [],
   "source": [
    "model = create_model(lr=.01)\n",
    "lr_001 = model.fit(X_train_scaled, y_train, \n",
    "          validation_data=(X_test_scaled, y_test),\n",
    "          workers=-2, \n",
    "          epochs=10, \n",
    "          batch_size=256, \n",
    "          verbose=1, \n",
    "          callbacks=[tensorboard])"
   ]
  },
  {
   "cell_type": "code",
   "execution_count": null,
   "id": "f912bbb4",
   "metadata": {},
   "outputs": [],
   "source": [
    "model = create_model(lr=.001)\n",
    "lr_0001 = model.fit(X_train_scaled, y_train, \n",
    "          validation_data=(X_test_scaled, y_test),\n",
    "          workers=-2, \n",
    "          epochs=10, \n",
    "          batch_size=256, \n",
    "          verbose=1, \n",
    "          callbacks=[tensorboard])"
   ]
  },
  {
   "cell_type": "code",
   "execution_count": null,
   "id": "67e57487",
   "metadata": {},
   "outputs": [],
   "source": [
    "model = create_model(lr=.0001)\n",
    "lr_00001 = model.fit(X_train_scaled, y_train, \n",
    "          validation_data=(X_test_scaled, y_test),\n",
    "          workers=-2, \n",
    "          epochs=10, \n",
    "          batch_size=256, \n",
    "          verbose=1, \n",
    "          callbacks=[tensorboard])"
   ]
  },
  {
   "cell_type": "code",
   "execution_count": null,
   "id": "7e5cb67b",
   "metadata": {},
   "outputs": [],
   "source": [
    "import seaborn as sns\n",
    "import pandas as pd\n",
    "\n",
    "lrs = []\n",
    "\n",
    "for exp, result in zip([lr_01, lr_001, lr_0001, lr_00001], [\".01_\", \".001_\", \".0001_\", \".00001_\"]):\n",
    "\n",
    "    df = pd.DataFrame.from_dict(exp.history)\n",
    "    df['epoch'] = df.index.values\n",
    "    df['Learning Rates'] = result\n",
    "\n",
    "    lrs.append(df)\n",
    "\n",
    "df_lr = pd.concat(lrs)\n",
    "df_lr['Learning Rates'] = df_lr['Learning Rates'].astype('str')\n",
    "df_lr.head()"
   ]
  },
  {
   "cell_type": "code",
   "execution_count": null,
   "id": "851f085e",
   "metadata": {},
   "outputs": [],
   "source": [
    "model = create_model(lr=.0001, opt='sgd')\n",
    "opt_sgd = model.fit(X_train_scaled, y_train, \n",
    "          validation_data=(X_test_scaled, y_test),\n",
    "          workers=-2, \n",
    "          epochs=10, \n",
    "          batch_size=256, \n",
    "          verbose=1, \n",
    "          callbacks=[tensorboard])"
   ]
  },
  {
   "cell_type": "code",
   "execution_count": null,
   "id": "1db4fe6e",
   "metadata": {},
   "outputs": [],
   "source": [
    "model = create_model(lr=.0001, opt='ftrl')\n",
    "opt_ftrl = model.fit(X_train_scaled, y_train, \n",
    "          validation_data=(X_test_scaled, y_test),\n",
    "          workers=-2, \n",
    "          epochs=10, \n",
    "          batch_size=256, \n",
    "          verbose=1, \n",
    "          callbacks=[tensorboard])"
   ]
  },
  {
   "cell_type": "code",
   "execution_count": null,
   "id": "9eab016e",
   "metadata": {},
   "outputs": [],
   "source": [
    "model = create_model(lr=.0001, opt='adagrad')\n",
    "opt_adagrad = model.fit(X_train_scaled, y_train, \n",
    "          validation_data=(X_test_scaled, y_test),\n",
    "          workers=-2, \n",
    "          epochs=10, \n",
    "          batch_size=256, \n",
    "          verbose=1, \n",
    "          callbacks=[tensorboard])"
   ]
  },
  {
   "cell_type": "code",
   "execution_count": null,
   "id": "21652d05",
   "metadata": {},
   "outputs": [],
   "source": [
    "model = create_model(lr=.0001, opt='rmsprop')\n",
    "opt_rmsprop = model.fit(X_train_scaled, y_train, \n",
    "          validation_data=(X_test_scaled, y_test),\n",
    "          workers=-2, \n",
    "          epochs=10, \n",
    "          batch_size=256, \n",
    "          verbose=1, \n",
    "          callbacks=[tensorboard])"
   ]
  },
  {
   "cell_type": "code",
   "execution_count": null,
   "id": "341d8059",
   "metadata": {},
   "outputs": [],
   "source": [
    "optimizers = []\n",
    "\n",
    "for exp, result in zip([opt_sgd, opt_ftrl, opt_adagrad, opt_rmsprop], [\"sgd\", \"ftrl\", \"adagrad\", \"rmsprop\"]):\n",
    "\n",
    "    df = pd.DataFrame.from_dict(exp.history)\n",
    "    df['epoch'] = df.index.values\n",
    "    df['Optimizer'] = result\n",
    "\n",
    "    optimizers.append(df)\n",
    "\n",
    "df_opt = pd.concat(optimizers)\n",
    "df_opt['Optimizer'] = df_opt['Optimizer'].astype('str')\n",
    "df_opt.head()"
   ]
  },
  {
   "cell_type": "code",
   "execution_count": null,
   "id": "adc9f644",
   "metadata": {},
   "outputs": [],
   "source": []
  },
  {
   "cell_type": "code",
   "execution_count": null,
   "id": "baf2c56e",
   "metadata": {},
   "outputs": [],
   "source": []
  },
  {
   "cell_type": "code",
   "execution_count": null,
   "id": "d68d5b7c",
   "metadata": {},
   "outputs": [],
   "source": []
  },
  {
   "cell_type": "code",
   "execution_count": null,
   "id": "471128ad",
   "metadata": {},
   "outputs": [],
   "source": []
  }
 ],
 "metadata": {
  "kernelspec": {
   "display_name": "Python [conda env:tf]",
   "language": "python",
   "name": "conda-env-tf-py"
  },
  "language_info": {
   "codemirror_mode": {
    "name": "ipython",
    "version": 3
   },
   "file_extension": ".py",
   "mimetype": "text/x-python",
   "name": "python",
   "nbconvert_exporter": "python",
   "pygments_lexer": "ipython3",
   "version": "3.9.7"
  }
 },
 "nbformat": 4,
 "nbformat_minor": 5
}
